{
 "cells": [
  {
   "cell_type": "markdown",
   "id": "83c73ff7",
   "metadata": {},
   "source": [
    "## 1. What is indentation error? Why indentation is important? Give one simple example?\n"
   ]
  },
  {
   "cell_type": "markdown",
   "id": "3425eb03",
   "metadata": {},
   "source": [
    "Ans. Identation error are those error which occur when the position of defining the algorithem ( spaces or tabs ) is not right. \n",
    "Identation error are important because they help us to understand the procedure and algorithem of the code and provides readers with a sense of continuity. \n",
    "example:\n",
    "\n"
   ]
  },
  {
   "cell_type": "code",
   "execution_count": 68,
   "id": "f2e16391",
   "metadata": {},
   "outputs": [
    {
     "ename": "IndentationError",
     "evalue": "expected an indented block after 'if' statement on line 4 (1920094326.py, line 5)",
     "output_type": "error",
     "traceback": [
      "\u001b[1;36m  Input \u001b[1;32mIn [68]\u001b[1;36m\u001b[0m\n\u001b[1;33m    print(\"a is greater than b\")\u001b[0m\n\u001b[1;37m    ^\u001b[0m\n\u001b[1;31mIndentationError\u001b[0m\u001b[1;31m:\u001b[0m expected an indented block after 'if' statement on line 4\n"
     ]
    }
   ],
   "source": [
    "a= int(input(print(\"Enter first number: \")))\n",
    "b= int(input(print(\"Ener Seconf number :\")))\n",
    "\n",
    "if (a>b):\n",
    "print(\"a is greater than b\")\n",
    "else:\n",
    "print(\"b is greater than a\")"
   ]
  },
  {
   "cell_type": "markdown",
   "id": "668516a9",
   "metadata": {},
   "source": [
    "## 2. Correct the following code and write the comment where you made the correction?\n",
    "\n",
    "  ```python\n",
    "  class_started = bool(input(\"Hey friend, is class started?: [0-False/1-True]\"))\n",
    "\n",
    "  if class_started:\n",
    "      print(\"Since class started...\")\n",
    "      print(\"Lets concentrate\")\n",
    "  else:\n",
    "      print(\"Since class is not started...\")\n",
    "      print(\"let's revise\")    \n",
    "  ```\n",
    "\n",
    "  **HINT:** Refer your data type conversion class"
   ]
  },
  {
   "cell_type": "code",
   "execution_count": 14,
   "id": "06024fed",
   "metadata": {},
   "outputs": [
    {
     "name": "stdout",
     "output_type": "stream",
     "text": [
      " Hey friend, is class started?: [0-False/1-True]\n",
      "None1\n",
      "Since class started...\n",
      "Lets concentrate\n"
     ]
    }
   ],
   "source": [
    "'''python'''\n",
    "\n",
    "class_started = int(input(print(\" Hey friend, is class started?: [0-False/1-True]\")))\n",
    "\n",
    "if (class_started==1):\n",
    "               print(\"Since class started...\")\n",
    "               print(\"Lets concentrate\")\n",
    "else:\n",
    "        print(\"Since class is not started...\")\n",
    "        print(\"let's revise\")    "
   ]
  },
  {
   "cell_type": "markdown",
   "id": "9f19936b",
   "metadata": {},
   "source": [
    "## 3. Use if else condition to verify that dataype of `input()` method in python is always string.\n"
   ]
  },
  {
   "cell_type": "code",
   "execution_count": 17,
   "id": "3edc2ec9",
   "metadata": {},
   "outputs": [
    {
     "name": "stdout",
     "output_type": "stream",
     "text": [
      "Enter anything whelther a number or a  name or a decimal\n",
      "None2\n",
      "Type of your input is String\n"
     ]
    }
   ],
   "source": [
    "a= input(print(\"Enter anything whelther a number or a  name or a decimal\"))\n",
    "b=type(a)\n",
    "if (b==str):\n",
    "    print(\"Type of your input is String\")\n",
    "else:\n",
    "    print(\"Enter a valid number\")\n",
    "    "
   ]
  },
  {
   "cell_type": "markdown",
   "id": "3690a912",
   "metadata": {},
   "source": [
    "## 4. Take 3 variables and assign integer values to them. Find the largest variable, by only using the if and else conditions."
   ]
  },
  {
   "cell_type": "code",
   "execution_count": 18,
   "id": "55b95265",
   "metadata": {},
   "outputs": [
    {
     "name": "stdout",
     "output_type": "stream",
     "text": [
      "Enter first number \n",
      "None1\n",
      "Enter second number \n",
      "None2\n",
      "Enter third number \n",
      "None3\n",
      "Third number is largest 3\n"
     ]
    }
   ],
   "source": [
    "a= input (print(\"Enter first number \"))\n",
    "b= input(print(\"Enter second number \"))\n",
    "c= input(print(\"Enter third number \"))\n",
    "\n",
    "a= int(a)\n",
    "b= int(b)\n",
    "c= int(c)\n",
    "\n",
    "if (a>b and a>c):\n",
    "    print(f\" first number is largest {a}\")\n",
    "elif (b>a and b>c):\n",
    "    print(f\" Second number is largest {b}\")\n",
    "else:\n",
    "    print(f\"Third number is largest {c}\")"
   ]
  },
  {
   "cell_type": "markdown",
   "id": "4f7012e2",
   "metadata": {},
   "source": [
    "## 5. What would be the solution?\n",
    "    1. True\n",
    "    2. False\n",
    "\n",
    "    ```python\n",
    "    a = 6\n",
    "    b = 10\n",
    "    print( not ( not a == 10 or not b == 10) )\n",
    "    ```"
   ]
  },
  {
   "cell_type": "code",
   "execution_count": 20,
   "id": "eefa63c3",
   "metadata": {},
   "outputs": [
    {
     "name": "stdout",
     "output_type": "stream",
     "text": [
      "False\n"
     ]
    }
   ],
   "source": [
    "a = 6\n",
    "b = 10\n",
    "print( not ( not a == 10 or not b == 10) )"
   ]
  },
  {
   "cell_type": "markdown",
   "id": "985d8335",
   "metadata": {},
   "source": [
    "## 6. Find the answer as well as find out the reason behind the result? -\n",
    "    - case 1:\n",
    "        ```python\n",
    "        A = 5.0\n",
    "        B = 10/2\n",
    "        print(A is B)\n",
    "        ```\n",
    "    - case 2:\n",
    "        ```python\n",
    "        A = 5.0\n",
    "        B = int(10/2)\n",
    "        print(A is B)\n",
    "        ```\n",
    "    - case 3:\n",
    "        ```python\n",
    "        A = 5.0\n",
    "        B = float(10/2)\n",
    "        print(A is B)\n",
    "        ```"
   ]
  },
  {
   "cell_type": "code",
   "execution_count": 30,
   "id": "1a5889d2",
   "metadata": {},
   "outputs": [
    {
     "name": "stdout",
     "output_type": "stream",
     "text": [
      "False\n"
     ]
    },
    {
     "data": {
      "text/plain": [
       "(float, float)"
      ]
     },
     "execution_count": 30,
     "metadata": {},
     "output_type": "execute_result"
    }
   ],
   "source": [
    "#case 1:\n",
    "A = 5.0\n",
    "B = 10/2\n",
    "print(A is B)\n",
    "type(A), type(B)"
   ]
  },
  {
   "cell_type": "markdown",
   "id": "4e6e077b",
   "metadata": {},
   "source": [
    "Since, addresses of A is not equal to B. "
   ]
  },
  {
   "cell_type": "code",
   "execution_count": 31,
   "id": "835bb383",
   "metadata": {},
   "outputs": [
    {
     "name": "stdout",
     "output_type": "stream",
     "text": [
      "False\n"
     ]
    },
    {
     "data": {
      "text/plain": [
       "(float, int)"
      ]
     },
     "execution_count": 31,
     "metadata": {},
     "output_type": "execute_result"
    }
   ],
   "source": [
    "#case 2:\n",
    "\n",
    "A = 5.0\n",
    "B = int(10/2)\n",
    "print(A is B)\n",
    "type(A), type(B)\n"
   ]
  },
  {
   "cell_type": "markdown",
   "id": "398736a8",
   "metadata": {},
   "source": [
    "Type of A is float and type of B is integar. Therefore, A is not equal to B"
   ]
  },
  {
   "cell_type": "code",
   "execution_count": 32,
   "id": "8b4e9302",
   "metadata": {},
   "outputs": [
    {
     "name": "stdout",
     "output_type": "stream",
     "text": [
      "False\n"
     ]
    },
    {
     "data": {
      "text/plain": [
       "(float, float)"
      ]
     },
     "execution_count": 32,
     "metadata": {},
     "output_type": "execute_result"
    }
   ],
   "source": [
    "#case 3:\n",
    "A = 5.0\n",
    "B = float(10/2)\n",
    "print(A is B)\n",
    "type(A), type(B)"
   ]
  },
  {
   "cell_type": "markdown",
   "id": "409d2410",
   "metadata": {},
   "source": [
    "addresses of A and B are not same."
   ]
  },
  {
   "cell_type": "markdown",
   "id": "02b19de2",
   "metadata": {},
   "source": [
    "### Try to understand the following examples and answer the question based on it - \n",
    "    \n",
    "**Arithmatic Operators**\n",
    "\n",
    "|Operation|Meaning|\n",
    "|:-:|:-:|\n",
    "| **+** |addition|\n",
    "| **-** |subtraction|\n",
    "| **\\*** |multiplication|\n",
    "| **/** |true division|\n",
    "| **//** |integer division|\n",
    "| **%** |the modulo operator|\n",
    "\n",
    "\n",
    "Here `+`, `-`, `*`, `/` are regular arithmatic operators. Lets look at the `//` and `%` operators\n",
    "\n",
    "Usecase or examples - \n",
    "    \n",
    "```python\n",
    "var_a = 5\n",
    "var_b = 25\n",
    "integer_division = var_b // var_a\n",
    "print(f\"integer division: {var_b}/{var_a}={integer_division}\")\n",
    "```\n",
    "\n",
    "OUTPUT: integer division: 25/5=5\n",
    "\n",
    "```python\n",
    "var_a = 3\n",
    "var_b = 25\n",
    "integer_division = var_b // var_a\n",
    "print(f\"integer division: {var_b}/{var_a}={integer_division}\")\n",
    "```\n",
    "\n",
    "OUTPUT: integer division: 25/3=8\n",
    "\n",
    "```python\n",
    "var_a = 5\n",
    "var_b = 25\n",
    "remainder = var_b % var_a\n",
    "print(f\"remainder: {var_b}/{var_a} is {remainder}\")\n",
    "```\n",
    "\n",
    "OUTPUT: remainder: 25/5 is 0\n",
    "\n",
    "```python\n",
    "var_a = 3\n",
    "var_b = 25\n",
    "remainder = var_b % var_a\n",
    "print(f\"remainder: {var_b}/{var_a} is {remainder}\")\n",
    "```\n",
    "\n",
    "OUTPUT: remainder: 25/3 is 1\n",
    "\n"
   ]
  },
  {
   "cell_type": "markdown",
   "id": "643fadda",
   "metadata": {},
   "source": [
    "# Answer below questions on the above theory - \n",
    "\n",
    "## 7. Write a program that asks the user to enter a number. You should print out a message to the user, either “That number is divisible by either 3 or 5”, or “That number is not divisible by either 3 or 5”. Be sure to consider the data type of the input you are taking in from the user. Use a single if/else block to solve this problem."
   ]
  },
  {
   "cell_type": "code",
   "execution_count": 35,
   "id": "183047da",
   "metadata": {},
   "outputs": [
    {
     "name": "stdout",
     "output_type": "stream",
     "text": [
      "Enter anumber:\n",
      "None15\n",
      "15 is divisible by 3 or 5\n"
     ]
    }
   ],
   "source": [
    "#7 \n",
    "a=int(input(print(\"Enter anumber:\")))\n",
    "if(a//3 and a//b):\n",
    "    print(f\"{a} is divisible by 3 or 5\")\n",
    "else:\n",
    "    print(f\"{a} is not divisible by 3 or 5\")\n"
   ]
  },
  {
   "cell_type": "markdown",
   "id": "af60dace",
   "metadata": {},
   "source": [
    "## 8. Take user input for length and width. Then calculate the area of rectangle. Also print as per length and width whether its a square of rectangle."
   ]
  },
  {
   "cell_type": "code",
   "execution_count": 37,
   "id": "2f06b5c6",
   "metadata": {},
   "outputs": [
    {
     "name": "stdout",
     "output_type": "stream",
     "text": [
      "Enter the length:\n",
      "None2\n",
      "Enter the width:\n",
      "None2\n",
      "It is a square\n",
      "Area of square is 4.0\n"
     ]
    }
   ],
   "source": [
    "#8\n",
    "a=float(input(print(\"Enter the length:\")))\n",
    "b=float(input(print(\"Enter the width:\")))\n",
    "if(a==b):\n",
    "    print(\"It is a square\")\n",
    "    c=a*b\n",
    "    print(f\"Area of square is {c}\")\n",
    "else:\n",
    "    print(\"It is not a square\")\n",
    "    c=a*b\n",
    "    print(f\"Area of rectangle is {c}\")\n"
   ]
  },
  {
   "cell_type": "markdown",
   "id": "7bb2e3f0",
   "metadata": {},
   "source": [
    "##  9. Take two variable radius_1 and radius_2 and calculate the area of circle_1 and circle_2. Also print which circle has large area. If area is equal then print area is equal."
   ]
  },
  {
   "cell_type": "code",
   "execution_count": 65,
   "id": "4a523b34",
   "metadata": {},
   "outputs": [
    {
     "name": "stdout",
     "output_type": "stream",
     "text": [
      "Enter the radius_1:\n",
      "None2\n",
      "Enter the radius_2:\n",
      "None3\n",
      "circle_2 area is greater\n",
      "Area of circle_1 is 28.259999999999998\n"
     ]
    }
   ],
   "source": [
    "#9\n",
    "a=float(input(print(\"Enter the radius_1:\")))\n",
    "b=float(input(print(\"Enter the radius_2:\")))\n",
    "if(a>b):\n",
    "    print(\"circle_1 area is greater\")\n",
    "    print(f\"Area of circle_1 is{3.14*a*a}\")\n",
    "else:\n",
    "    print(\"circle_2 area is greater\")\n",
    "    print(f\"Area of circle_1 is {3.14*b*b}\")\n",
    "    \n",
    "     "
   ]
  },
  {
   "cell_type": "markdown",
   "id": "f7120c64",
   "metadata": {},
   "source": [
    "## 10. Check whether a year is leap year or not. Use nested if...else to solve this problem. A leap year is exactly divisible by 4 except for century years (years ending with 00). The century year is a leap year only if it is perfectly divisible by 400."
   ]
  },
  {
   "cell_type": "code",
   "execution_count": 67,
   "id": "c42ea6b5",
   "metadata": {},
   "outputs": [
    {
     "name": "stdout",
     "output_type": "stream",
     "text": [
      "Enter a year:\n",
      "None2000\n",
      "it is a leap year\n"
     ]
    }
   ],
   "source": [
    "#10\n",
    "a=int(input(print(\"Enter a year:\")))\n",
    "if(a//4):\n",
    "    print(\"it is a leap year\")\n",
    "elif(a//400):\n",
    "    print(\"it is a leap year\")\n",
    "else:\n",
    "    print(\"it is not a leap year\")"
   ]
  },
  {
   "cell_type": "code",
   "execution_count": null,
   "id": "a3728ba1",
   "metadata": {},
   "outputs": [],
   "source": []
  }
 ],
 "metadata": {
  "kernelspec": {
   "display_name": "Python 3 (ipykernel)",
   "language": "python",
   "name": "python3"
  },
  "language_info": {
   "codemirror_mode": {
    "name": "ipython",
    "version": 3
   },
   "file_extension": ".py",
   "mimetype": "text/x-python",
   "name": "python",
   "nbconvert_exporter": "python",
   "pygments_lexer": "ipython3",
   "version": "3.10.5"
  }
 },
 "nbformat": 4,
 "nbformat_minor": 5
}
